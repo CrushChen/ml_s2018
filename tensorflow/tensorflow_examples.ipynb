{
 "cells": [
  {
   "cell_type": "markdown",
   "metadata": {},
   "source": [
    "# Let's flow some tensors"
   ]
  },
  {
   "cell_type": "markdown",
   "metadata": {},
   "source": [
    "## A simple hello tensors !"
   ]
  },
  {
   "cell_type": "code",
   "execution_count": 1,
   "metadata": {},
   "outputs": [],
   "source": [
    "import tensorflow as tf # need to import the right package"
   ]
  },
  {
   "cell_type": "code",
   "execution_count": 2,
   "metadata": {},
   "outputs": [],
   "source": [
    "x = tf.constant('Hello tensors!') # this is how we create tensors woith constant value"
   ]
  },
  {
   "cell_type": "code",
   "execution_count": 3,
   "metadata": {},
   "outputs": [
    {
     "name": "stdout",
     "output_type": "stream",
     "text": [
      "Hello tensors!\n"
     ]
    }
   ],
   "source": [
    "with tf.Session() as sess:\n",
    "    x_val = sess.run(x)\n",
    "    print(x_val)"
   ]
  },
  {
   "cell_type": "markdown",
   "metadata": {},
   "source": [
    "## Matrix multiplication"
   ]
  },
  {
   "cell_type": "code",
   "execution_count": 4,
   "metadata": {},
   "outputs": [
    {
     "name": "stdout",
     "output_type": "stream",
     "text": [
      "product of M [[1 2 1]\n",
      " [2 2 2]] and V  [[1]\n",
      " [1]\n",
      " [0]] \n",
      " is [[3]\n",
      " [4]]\n"
     ]
    }
   ],
   "source": [
    "M = tf.constant([[1, 2, 1],[2, 2, 2]])\n",
    "V = tf.constant([[1], [1], [0]])\n",
    "prod = tf.matmul(M,V)\n",
    "with tf.Session() as sess:\n",
    "    prod_val, M_val, V_val = sess.run([prod, M , V])\n",
    "    print('product of M {} and V  {} \\n is {}'.format(M_val, V_val, prod_val))"
   ]
  },
  {
   "cell_type": "markdown",
   "metadata": {},
   "source": [
    "## Let's do some machine learning\n",
    "Here we will build a simple logistic regression model to classify mnist data set"
   ]
  },
  {
   "cell_type": "code",
   "execution_count": 5,
   "metadata": {},
   "outputs": [
    {
     "name": "stdout",
     "output_type": "stream",
     "text": [
      "Successfully downloaded train-images-idx3-ubyte.gz 9912422 bytes.\n",
      "Extracting MNIST_data/train-images-idx3-ubyte.gz\n",
      "Successfully downloaded train-labels-idx1-ubyte.gz 28881 bytes.\n",
      "Extracting MNIST_data/train-labels-idx1-ubyte.gz\n",
      "Successfully downloaded t10k-images-idx3-ubyte.gz 1648877 bytes.\n",
      "Extracting MNIST_data/t10k-images-idx3-ubyte.gz\n",
      "Successfully downloaded t10k-labels-idx1-ubyte.gz 4542 bytes.\n",
      "Extracting MNIST_data/t10k-labels-idx1-ubyte.gz\n"
     ]
    }
   ],
   "source": [
    "from tensorflow.examples.tutorials.mnist import input_data\n",
    "mnist = input_data.read_data_sets('MNIST_data', one_hot=True)"
   ]
  },
  {
   "cell_type": "markdown",
   "metadata": {},
   "source": [
    "## Verify everthing looks good"
   ]
  },
  {
   "cell_type": "code",
   "execution_count": 6,
   "metadata": {},
   "outputs": [
    {
     "name": "stdout",
     "output_type": "stream",
     "text": [
      "55000 training example with shape (784,)\n",
      "10000 test example with shape (784,)\n"
     ]
    }
   ],
   "source": [
    "print('{} training example with shape {}'.format(mnist.train.num_examples, mnist.train.images[0].shape))\n",
    "print('{} test example with shape {}'.format(mnist.test.num_examples, mnist.test.images[0].shape))"
   ]
  },
  {
   "cell_type": "code",
   "execution_count": 7,
   "metadata": {},
   "outputs": [
    {
     "name": "stdout",
     "output_type": "stream",
     "text": [
      "[0 1 2 3 4 5 6 7 8 9]\n"
     ]
    }
   ],
   "source": [
    "NUM_CLASSES = 10\n",
    "X_DIM = 28\n",
    "Y_DIM = 28\n",
    "import numpy as np\n",
    "unique_label = np.unique(np.argmax(mnist.train.labels, 1))\n",
    "print(unique_label)\n",
    "assert NUM_CLASSES == len(unique_label), 'number of label does not match'\n",
    "assert X_DIM*Y_DIM == mnist.train.images[0].size, 'total pixel does not match'"
   ]
  },
  {
   "cell_type": "markdown",
   "metadata": {},
   "source": [
    "## Let's randomly view some of them"
   ]
  },
  {
   "cell_type": "code",
   "execution_count": 8,
   "metadata": {},
   "outputs": [],
   "source": [
    "# magic command so that images are inline in notebook\n",
    "%matplotlib inline \n",
    "import matplotlib.pyplot as plt # visulaization package in python"
   ]
  },
  {
   "cell_type": "code",
   "execution_count": 9,
   "metadata": {},
   "outputs": [
    {
     "name": "stdout",
     "output_type": "stream",
     "text": [
      "[ 2732 43567 42613 52416]\n"
     ]
    },
    {
     "data": {
      "image/png": "[encoded data removed]",
      "text/plain": [
       "<matplotlib.figure.Figure at 0x7f892b300a90>"
      ]
     },
     "metadata": {},
     "output_type": "display_data"
    }
   ],
   "source": [
    "np.random.seed(0) # to make sure we have deterministic results on each iteration\n",
    "NUM_FIG_DISP = 4\n",
    "rand_ind = np.random.randint(mnist.train.num_examples, size=NUM_FIG_DISP)\n",
    "print(rand_ind)\n",
    "plt.figure(1)\n",
    "plt.gray()\n",
    "for idx, image_index in enumerate(rand_ind):\n",
    "    plt.subplot(2,2,idx +1)\n",
    "    plt.imshow(np.reshape(mnist.train.images[image_index], (X_DIM, Y_DIM)) )\n",
    "    plt.title('label is {}'.format(np.argmax(mnist.train.labels[image_index])))  \n",
    "    plt.axis('off')\n",
    "plt.show()"
   ]
  },
  {
   "cell_type": "markdown",
   "metadata": {},
   "source": [
    "## define model model"
   ]
  },
  {
   "cell_type": "code",
   "execution_count": 10,
   "metadata": {},
   "outputs": [
    {
     "name": "stdout",
     "output_type": "stream",
     "text": [
      "shape of prediction vector is [None, 10]\n"
     ]
    }
   ],
   "source": [
    "PIXELS_PER_SAMPLE = X_DIM*Y_DIM\n",
    "BATCH_SIZE = 100\n",
    "NUM_EPOCHS = 10\n",
    "X =  tf.placeholder(tf.float32, [None, PIXELS_PER_SAMPLE])\n",
    "Y = tf.placeholder(tf.float32, [None, NUM_CLASSES])\n",
    "M = tf.Variable(tf.random_normal([X_DIM*Y_DIM, NUM_CLASSES]), name='weight')\n",
    "b = tf.Variable(tf.zeros([NUM_CLASSES]), name='bias')\n",
    "Y_pred = tf.matmul(X, M) + b\n",
    "print('shape of prediction vector is {}'.format(Y_pred.get_shape().as_list()))"
   ]
  },
  {
   "cell_type": "markdown",
   "metadata": {},
   "source": [
    "## Let's convert this score vector of 10 into probability vector using softmax"
   ]
  },
  {
   "cell_type": "code",
   "execution_count": 11,
   "metadata": {},
   "outputs": [],
   "source": [
    "Y_pred_prob = tf.nn.softmax(Y_pred)"
   ]
  },
  {
   "cell_type": "markdown",
   "metadata": {},
   "source": [
    "## build a loss/cost/objective function to measure how go we are doing"
   ]
  },
  {
   "cell_type": "code",
   "execution_count": 12,
   "metadata": {},
   "outputs": [],
   "source": [
    "loss = tf.reduce_mean(-Y*tf.log(Y_pred_prob))"
   ]
  },
  {
   "cell_type": "markdown",
   "metadata": {},
   "source": [
    "## build an accuracy measure"
   ]
  },
  {
   "cell_type": "code",
   "execution_count": 13,
   "metadata": {},
   "outputs": [],
   "source": [
    "accuracy = tf.equal(tf.argmax(Y,1), tf.argmax(Y_pred_prob,1)) # picking the index of high probabiity\n",
    "accuracy = tf.cast(accuracy, tf.float32)\n",
    "accuracy = tf.reduce_mean(accuracy)"
   ]
  },
  {
   "cell_type": "code",
   "execution_count": 14,
   "metadata": {},
   "outputs": [
    {
     "data": {
      "text/plain": [
       "TensorShape([])"
      ]
     },
     "execution_count": 14,
     "metadata": {},
     "output_type": "execute_result"
    }
   ],
   "source": [
    "accuracy.get_shape()"
   ]
  },
  {
   "cell_type": "markdown",
   "metadata": {},
   "source": [
    "## let create an optimizer"
   ]
  },
  {
   "cell_type": "code",
   "execution_count": 15,
   "metadata": {},
   "outputs": [],
   "source": [
    "opt = tf.train.GradientDescentOptimizer(learning_rate = .5).minimize(loss)"
   ]
  },
  {
   "cell_type": "code",
   "execution_count": 16,
   "metadata": {},
   "outputs": [
    {
     "name": "stdout",
     "output_type": "stream",
     "text": [
      "float32\n",
      "float64\n"
     ]
    }
   ],
   "source": [
    "print(mnist.train.images[0].dtype)\n",
    "print(mnist.train.labels[0].dtype)"
   ]
  },
  {
   "cell_type": "markdown",
   "metadata": {},
   "source": [
    "## Lets run the model and see how it performing"
   ]
  },
  {
   "cell_type": "code",
   "execution_count": 17,
   "metadata": {},
   "outputs": [
    {
     "name": "stdout",
     "output_type": "stream",
     "text": [
      "WARNING:tensorflow:From /home/psnegi/anaconda2/lib/python2.7/site-packages/tensorflow/python/util/tf_should_use.py:175: initialize_all_variables (from tensorflow.python.ops.variables) is deprecated and will be removed after 2017-03-02.\n",
      "Instructions for updating:\n",
      "Use `tf.global_variables_initializer` instead.\n",
      "epoch 1 batch 100 loss 0.319999992847 accu\n",
      "epoch 1 batch 200 loss 0.430000007153 accu\n",
      "epoch 1 batch 300 loss 0.589999973774 accu\n",
      "epoch 1 batch 400 loss 0.670000016689 accu\n",
      "epoch 1 batch 500 loss 0.709999978542 accu\n",
      "epoch 1 # test accuracy 0.647899985313#\n",
      "epoch 2 batch 100 loss 0.730000019073 accu\n",
      "epoch 2 batch 200 loss 0.660000026226 accu\n",
      "epoch 2 batch 300 loss 0.740000009537 accu\n",
      "epoch 2 batch 400 loss 0.689999997616 accu\n",
      "epoch 2 batch 500 loss 0.75 accu\n",
      "epoch 2 # test accuracy 0.747500002384#\n",
      "epoch 3 batch 100 loss 0.77999997139 accu\n",
      "epoch 3 batch 200 loss 0.850000023842 accu\n",
      "epoch 3 batch 300 loss 0.810000002384 accu\n",
      "epoch 3 batch 400 loss 0.759999990463 accu\n",
      "epoch 3 batch 500 loss 0.850000023842 accu\n",
      "epoch 3 # test accuracy 0.786400020123#\n",
      "epoch 4 batch 100 loss 0.759999990463 accu\n",
      "epoch 4 batch 200 loss 0.740000009537 accu\n",
      "epoch 4 batch 300 loss 0.77999997139 accu\n",
      "epoch 4 batch 400 loss 0.819999992847 accu\n",
      "epoch 4 batch 500 loss 0.740000009537 accu\n",
      "epoch 4 # test accuracy 0.808899998665#\n",
      "epoch 5 batch 100 loss 0.850000023842 accu\n",
      "epoch 5 batch 200 loss 0.860000014305 accu\n",
      "epoch 5 batch 300 loss 0.77999997139 accu\n",
      "epoch 5 batch 400 loss 0.829999983311 accu\n",
      "epoch 5 batch 500 loss 0.790000021458 accu\n",
      "epoch 5 # test accuracy 0.825299978256#\n",
      "epoch 6 batch 100 loss 0.829999983311 accu\n",
      "epoch 6 batch 200 loss 0.860000014305 accu\n",
      "epoch 6 batch 300 loss 0.860000014305 accu\n",
      "epoch 6 batch 400 loss 0.810000002384 accu\n",
      "epoch 6 batch 500 loss 0.790000021458 accu\n",
      "epoch 6 # test accuracy 0.83370000124#\n",
      "epoch 7 batch 100 loss 0.77999997139 accu\n",
      "epoch 7 batch 200 loss 0.810000002384 accu\n",
      "epoch 7 batch 300 loss 0.870000004768 accu\n",
      "epoch 7 batch 400 loss 0.860000014305 accu\n",
      "epoch 7 batch 500 loss 0.860000014305 accu\n",
      "epoch 7 # test accuracy 0.841300010681#\n",
      "epoch 8 batch 100 loss 0.839999973774 accu\n",
      "epoch 8 batch 200 loss 0.819999992847 accu\n",
      "epoch 8 batch 300 loss 0.870000004768 accu\n",
      "epoch 8 batch 400 loss 0.850000023842 accu\n",
      "epoch 8 batch 500 loss 0.870000004768 accu\n",
      "epoch 8 # test accuracy 0.849600017071#\n",
      "epoch 9 batch 100 loss 0.819999992847 accu\n",
      "epoch 9 batch 200 loss 0.839999973774 accu\n",
      "epoch 9 batch 300 loss 0.870000004768 accu\n",
      "epoch 9 batch 400 loss 0.790000021458 accu\n",
      "epoch 9 batch 500 loss 0.850000023842 accu\n",
      "epoch 9 # test accuracy 0.85490000248#\n",
      "epoch 10 batch 100 loss 0.889999985695 accu\n",
      "epoch 10 batch 200 loss 0.920000016689 accu\n",
      "epoch 10 batch 300 loss 0.819999992847 accu\n",
      "epoch 10 batch 400 loss 0.769999980927 accu\n",
      "epoch 10 batch 500 loss 0.839999973774 accu\n",
      "epoch 10 # test accuracy 0.858200013638#\n"
     ]
    }
   ],
   "source": [
    "with tf.Session() as sess:\n",
    "    sess.run(tf.initialize_all_variables())\n",
    "    for eidx in range(NUM_EPOCHS):\n",
    "        for bidx in range(mnist.train.num_examples// BATCH_SIZE):\n",
    "            xs, ys = mnist.train.next_batch(BATCH_SIZE)\n",
    "            xs = xs.astype(np.float32)\n",
    "            _, loss_val= sess.run([opt, loss], feed_dict={X:xs, Y:ys})\n",
    "            if (bidx+1)%100 == 0: # print result every 100 batch\n",
    "                accuracy_val = accuracy.eval(session=sess, feed_dict={X:xs, Y:ys})\n",
    "                print('epoch {} batch {} loss {} accu'.format(eidx +1 , bidx +1, accuracy_val))\n",
    "        print('epoch {} # test accuracy {}#'.format(eidx +1, accuracy.eval(session=sess,\n",
    "            feed_dict= {X:mnist.test.images.astype(np.float32), Y: mnist.test.labels})))        \n",
    "                "
   ]
  }
 ],
 "metadata": {
  "kernelspec": {
   "display_name": "Python 2",
   "language": "python",
   "name": "python2"
  },
  "language_info": {
   "codemirror_mode": {
    "name": "ipython",
    "version": 2
   },
   "file_extension": ".py",
   "mimetype": "text/x-python",
   "name": "python",
   "nbconvert_exporter": "python",
   "pygments_lexer": "ipython2",
   "version": "2.7.13"
  }
 },
 "nbformat": 4,
 "nbformat_minor": 1
}
